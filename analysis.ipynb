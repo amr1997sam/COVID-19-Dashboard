{
 "cells": [
  {
   "cell_type": "code",
   "execution_count": 15,
   "id": "669a2ac5-a336-457d-ac58-9e99273ba12a",
   "metadata": {},
   "outputs": [],
   "source": [
    "import numpy as np\n",
    "import pandas as pd"
   ]
  },
  {
   "cell_type": "code",
   "execution_count": 3,
   "id": "0e9076f6-9ab2-43ae-ad35-85d3468d5112",
   "metadata": {},
   "outputs": [],
   "source": [
    "df_dth = pd.read_csv('CovidDeaths.csv')\n",
    "df_vacc = pd.read_csv('CovidVaccinations.csv')"
   ]
  },
  {
   "cell_type": "code",
   "execution_count": null,
   "id": "7f22ea09-e838-48ba-96e7-16a0e758b121",
   "metadata": {},
   "outputs": [],
   "source": [
    "df_dth.isnull().sum()"
   ]
  },
  {
   "cell_type": "code",
   "execution_count": null,
   "id": "63ced704-ecfb-408b-bc34-51cb645b5fe4",
   "metadata": {},
   "outputs": [],
   "source": [
    "df_vacc.isnull().sum()"
   ]
  },
  {
   "cell_type": "code",
   "execution_count": 94,
   "id": "4017279b-b0c8-4384-95d3-d30abb1d5276",
   "metadata": {},
   "outputs": [
    {
     "name": "stdout",
     "output_type": "stream",
     "text": [
      "<class 'pandas.core.frame.DataFrame'>\n",
      "RangeIndex: 85171 entries, 0 to 85170\n",
      "Data columns (total 59 columns):\n",
      " #   Column                                 Non-Null Count  Dtype         \n",
      "---  ------                                 --------------  -----         \n",
      " 0   iso_code                               85171 non-null  object        \n",
      " 1   continent                              81060 non-null  object        \n",
      " 2   location                               85171 non-null  object        \n",
      " 3   date                                   85171 non-null  datetime64[ns]\n",
      " 4   total_cases                            83072 non-null  float64       \n",
      " 5   new_cases                              83070 non-null  float64       \n",
      " 6   new_cases_smoothed                     82069 non-null  float64       \n",
      " 7   total_deaths                           73408 non-null  float64       \n",
      " 8   new_deaths                             73566 non-null  float64       \n",
      " 9   new_deaths_smoothed                    82069 non-null  float64       \n",
      " 10  total_cases_per_million                82623 non-null  float64       \n",
      " 11  new_cases_per_million                  82621 non-null  float64       \n",
      " 12  new_cases_smoothed_per_million         81625 non-null  float64       \n",
      " 13  total_deaths_per_million               72972 non-null  float64       \n",
      " 14  new_deaths_per_million                 73130 non-null  float64       \n",
      " 15  new_deaths_smoothed_per_million        81625 non-null  float64       \n",
      " 16  reproduction_rate                      68942 non-null  float64       \n",
      " 17  icu_patients                           8684 non-null   float64       \n",
      " 18  icu_patients_per_million               8684 non-null   float64       \n",
      " 19  hosp_patients                          10814 non-null  float64       \n",
      " 20  hosp_patients_per_million              10814 non-null  float64       \n",
      " 21  weekly_icu_admissions                  789 non-null    float64       \n",
      " 22  weekly_icu_admissions_per_million      789 non-null    float64       \n",
      " 23  weekly_hosp_admissions                 1295 non-null   float64       \n",
      " 24  weekly_hosp_admissions_per_million     1295 non-null   float64       \n",
      " 25  new_tests                              38945 non-null  float64       \n",
      " 26  total_tests                            38652 non-null  float64       \n",
      " 27  total_tests_per_thousand               38652 non-null  float64       \n",
      " 28  new_tests_per_thousand                 38945 non-null  float64       \n",
      " 29  new_tests_smoothed                     44625 non-null  float64       \n",
      " 30  new_tests_smoothed_per_thousand        44625 non-null  float64       \n",
      " 31  positive_rate                          42904 non-null  float64       \n",
      " 32  tests_per_case                         42311 non-null  float64       \n",
      " 33  tests_units                            46079 non-null  object        \n",
      " 34  total_vaccinations                     9374 non-null   float64       \n",
      " 35  people_vaccinated                      8744 non-null   float64       \n",
      " 36  people_fully_vaccinated                6431 non-null   float64       \n",
      " 37  new_vaccinations                       7954 non-null   float64       \n",
      " 38  new_vaccinations_smoothed              15092 non-null  float64       \n",
      " 39  total_vaccinations_per_hundred         9374 non-null   float64       \n",
      " 40  people_vaccinated_per_hundred          8744 non-null   float64       \n",
      " 41  people_fully_vaccinated_per_hundred    6431 non-null   float64       \n",
      " 42  new_vaccinations_smoothed_per_million  15092 non-null  float64       \n",
      " 43  stringency_index                       72207 non-null  float64       \n",
      " 44  population                             84622 non-null  float64       \n",
      " 45  population_density                     79274 non-null  float64       \n",
      " 46  median_age                             76706 non-null  float64       \n",
      " 47  aged_65_older                          75830 non-null  float64       \n",
      " 48  aged_70_older                          76276 non-null  float64       \n",
      " 49  gdp_per_capita                         77046 non-null  float64       \n",
      " 50  extreme_poverty                        52449 non-null  float64       \n",
      " 51  cardiovasc_death_rate                  77634 non-null  float64       \n",
      " 52  diabetes_prevalence                    78779 non-null  float64       \n",
      " 53  female_smokers                         60828 non-null  float64       \n",
      " 54  male_smokers                           59931 non-null  float64       \n",
      " 55  handwashing_facilities                 39007 non-null  float64       \n",
      " 56  hospital_beds_per_thousand             70847 non-null  float64       \n",
      " 57  life_expectancy                        80833 non-null  float64       \n",
      " 58  human_development_index                77517 non-null  float64       \n",
      "dtypes: datetime64[ns](1), float64(54), object(4)\n",
      "memory usage: 38.3+ MB\n"
     ]
    }
   ],
   "source": [
    "df_dth.info()"
   ]
  },
  {
   "cell_type": "code",
   "execution_count": 93,
   "id": "9a492ed5-126e-4e17-a804-17456d0010a1",
   "metadata": {},
   "outputs": [],
   "source": [
    "df_dth['date']= pd.to_datetime(df_dth['date'].str.strip(), format='mixed')"
   ]
  },
  {
   "cell_type": "markdown",
   "id": "b02cef60-60aa-4154-b78d-9e80b8a80fd3",
   "metadata": {},
   "source": [
    "#"
   ]
  },
  {
   "cell_type": "markdown",
   "id": "0709f7e3-d721-48e4-96d9-e97aa9bd9f03",
   "metadata": {},
   "source": [
    "# Global Numbers"
   ]
  },
  {
   "cell_type": "code",
   "execution_count": 87,
   "id": "9dd0732e-3411-44d9-893e-dc644fb4a169",
   "metadata": {},
   "outputs": [
    {
     "data": {
      "text/html": [
       "<div>\n",
       "<style scoped>\n",
       "    .dataframe tbody tr th:only-of-type {\n",
       "        vertical-align: middle;\n",
       "    }\n",
       "\n",
       "    .dataframe tbody tr th {\n",
       "        vertical-align: top;\n",
       "    }\n",
       "\n",
       "    .dataframe thead th {\n",
       "        text-align: right;\n",
       "    }\n",
       "</style>\n",
       "<table border=\"1\" class=\"dataframe\">\n",
       "  <thead>\n",
       "    <tr style=\"text-align: right;\">\n",
       "      <th></th>\n",
       "      <th>total_cases</th>\n",
       "      <th>total_deaths</th>\n",
       "      <th>death_percentage</th>\n",
       "    </tr>\n",
       "  </thead>\n",
       "  <tbody>\n",
       "    <tr>\n",
       "      <th>sum</th>\n",
       "      <td>150574977.0</td>\n",
       "      <td>3180206.0</td>\n",
       "      <td>2.112041</td>\n",
       "    </tr>\n",
       "  </tbody>\n",
       "</table>\n",
       "</div>"
      ],
      "text/plain": [
       "     total_cases  total_deaths  death_percentage\n",
       "sum  150574977.0     3180206.0          2.112041"
      ]
     },
     "execution_count": 87,
     "metadata": {},
     "output_type": "execute_result"
    }
   ],
   "source": [
    "global_numbers = pd.DataFrame(index=['sum'])\n",
    "tot_cases = df_dth[df_dth['continent'].notna()]['new_cases'].sum()\n",
    "tot_deaths = df_dth[df_dth['continent'].notna()]['new_deaths'].sum()\n",
    "death_percentage = tot_deaths/tot_cases*100\n",
    "global_numbers[['total_cases', 'total_deaths', 'death_percentage']]= [tot_cases, tot_deaths, death_percentage]\n",
    "global_numbers"
   ]
  },
  {
   "cell_type": "code",
   "execution_count": 88,
   "id": "6d8ec644-68ce-45d4-a1b1-0c9cba943ec0",
   "metadata": {},
   "outputs": [],
   "source": [
    "global_numbers.to_csv('global_numbers.csv', index=False)"
   ]
  },
  {
   "cell_type": "markdown",
   "id": "f4957624-408b-4c70-bf72-5c167a8dac36",
   "metadata": {},
   "source": [
    "#"
   ]
  },
  {
   "cell_type": "markdown",
   "id": "6a79e055-f7cd-47ca-921c-2bb497db2293",
   "metadata": {},
   "source": [
    "# Death Percentage Per country"
   ]
  },
  {
   "cell_type": "code",
   "execution_count": null,
   "id": "cb0ce2a4-ccc0-4e17-af38-9be073d80d70",
   "metadata": {},
   "outputs": [],
   "source": []
  },
  {
   "cell_type": "code",
   "execution_count": null,
   "id": "5d75c7ab-bf14-4afe-82d1-c2a2c31d51a6",
   "metadata": {},
   "outputs": [],
   "source": []
  },
  {
   "cell_type": "code",
   "execution_count": 98,
   "id": "51877194-fcce-46b9-a596-d2e6ace0368f",
   "metadata": {},
   "outputs": [],
   "source": [
    "death_TS= df_dth[['date', 'location', 'new_deaths']]"
   ]
  },
  {
   "cell_type": "code",
   "execution_count": 99,
   "id": "8a824962-480d-4981-b318-24f2311d910b",
   "metadata": {},
   "outputs": [],
   "source": [
    "death_TS.to_csv('death_TS.csv', index=False)"
   ]
  },
  {
   "cell_type": "markdown",
   "id": "d1c2def0-e10f-4134-9b7d-02ec0fe8f96c",
   "metadata": {},
   "source": [
    "##"
   ]
  },
  {
   "cell_type": "code",
   "execution_count": 10,
   "id": "b66f7ed3-d110-4814-ae84-fce4b03764a2",
   "metadata": {},
   "outputs": [],
   "source": [
    "df.to_csv('out.csv', index=False)"
   ]
  }
 ],
 "metadata": {
  "kernelspec": {
   "display_name": "Python 3 (ipykernel)",
   "language": "python",
   "name": "python3"
  },
  "language_info": {
   "codemirror_mode": {
    "name": "ipython",
    "version": 3
   },
   "file_extension": ".py",
   "mimetype": "text/x-python",
   "name": "python",
   "nbconvert_exporter": "python",
   "pygments_lexer": "ipython3",
   "version": "3.12.3"
  }
 },
 "nbformat": 4,
 "nbformat_minor": 5
}
